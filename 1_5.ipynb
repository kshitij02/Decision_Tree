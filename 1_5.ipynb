{
 "cells": [
  {
   "cell_type": "markdown",
   "metadata": {},
   "source": [
    "# Part 5 \n",
    "#### Plot a graph of training and validation error with respect to depth of decision tree. Also plot the training and validation error with respect to number of nodes in the decision tree"
   ]
  },
  {
   "cell_type": "code",
   "execution_count": 1,
   "metadata": {},
   "outputs": [],
   "source": [
    "import pandas as pd\n",
    "import numpy as num\n",
    "import random\n",
    "import math\n",
    "import pprint"
   ]
  },
  {
   "cell_type": "code",
   "execution_count": 2,
   "metadata": {},
   "outputs": [],
   "source": [
    "def train_test_set(data,precentage):\n",
    "    indices=data.index.tolist()\n",
    "    test_size=(int)(precentage*len(data))\n",
    "    test_set_indices=random.sample(population=indices,k=test_size)\n",
    "    #print test_size\n",
    "    #print len(data)\n",
    "    test_set=data.loc[test_set_indices]\n",
    "    #print test_set_indices\n",
    "    train_set=data.drop(test_set_indices)\n",
    "    return train_set,test_set\n",
    "list_categorial_attribute=['Work_accident','promotion_last_5years','sales','salary']\n",
    "list_numeric_attribute=['satisfaction_level','last_evaluation','number_project','average_montly_hours','time_spend_company'\n",
    "]\n",
    "dic_avg_numeric={}"
   ]
  },
  {
   "cell_type": "markdown",
   "metadata": {},
   "source": [
    "#### Reading and Dividing data in Training and Vaildation data "
   ]
  },
  {
   "cell_type": "code",
   "execution_count": 3,
   "metadata": {},
   "outputs": [],
   "source": [
    "data=pd.read_csv(\"train.csv\")\n",
    "#data.head()\n",
    "# train_data ,test_data = train_test_set(data ,0.2)\n",
    "train_data=data.sample(frac=0.8,random_state=200)\n",
    "test_data=data.drop(train_data.index)"
   ]
  },
  {
   "cell_type": "markdown",
   "metadata": {},
   "source": [
    "#### is_pure fuction \n",
    "Tests wheather only one type data is left or not"
   ]
  },
  {
   "cell_type": "code",
   "execution_count": 4,
   "metadata": {},
   "outputs": [
    {
     "data": {
      "text/plain": [
       "False"
      ]
     },
     "execution_count": 4,
     "metadata": {},
     "output_type": "execute_result"
    }
   ],
   "source": [
    "def is_pure(data):\n",
    "    current=data['left']\n",
    "    if len(set(current))==1:\n",
    "        return True \n",
    "    else: \n",
    "        return False\n",
    "is_pure(train_data)"
   ]
  },
  {
   "cell_type": "markdown",
   "metadata": {},
   "source": [
    "#### calc _entropy function \n",
    "Calculates the entropy of given Data  "
   ]
  },
  {
   "cell_type": "code",
   "execution_count": 5,
   "metadata": {},
   "outputs": [
    {
     "data": {
      "text/plain": [
       "0.7986105014037017"
      ]
     },
     "execution_count": 5,
     "metadata": {},
     "output_type": "execute_result"
    }
   ],
   "source": [
    "def calc_entropy(data):\n",
    "    current=data['left'].tolist()\n",
    "    if is_pure(data):\n",
    "        return 0\n",
    "    else:\n",
    "        num_one=current.count(1)\n",
    "        p=num_one/float(len(data.index))\n",
    "#         p=(num_one/float(len(current)))\n",
    "        entropy= ((p*math.log(p,2)) + ((1-p)*math.log(1-p,2)))*-1\n",
    "#         print entropy\n",
    "        return entropy\n",
    "        \n",
    "calc_entropy(train_data)\n"
   ]
  },
  {
   "cell_type": "markdown",
   "metadata": {},
   "source": [
    "#### calc_information function\n",
    "calculates the information in given data with respect each and every atttributes provided"
   ]
  },
  {
   "cell_type": "code",
   "execution_count": 6,
   "metadata": {},
   "outputs": [
    {
     "data": {
      "text/plain": [
       "0.7931530920122911"
      ]
     },
     "execution_count": 6,
     "metadata": {},
     "output_type": "execute_result"
    }
   ],
   "source": [
    "def calc_information(data,attribute):\n",
    "    current=set(data[attribute])\n",
    "    information=0\n",
    "    for cur in current:\n",
    "        current_data=data[data[attribute]==cur]\n",
    "        current_entropy=calc_entropy(current_data)*(len(current_data.index)/float(len(data.index)))\n",
    "        information=information+current_entropy\n",
    "    return information\n",
    "calc_information(train_data,'sales')    "
   ]
  },
  {
   "cell_type": "markdown",
   "metadata": {},
   "source": [
    "#### calc_information_gain function\n",
    " Calculates Information Gain of attribute on the given data"
   ]
  },
  {
   "cell_type": "code",
   "execution_count": 7,
   "metadata": {},
   "outputs": [
    {
     "data": {
      "text/plain": [
       "0.005457409391410595"
      ]
     },
     "execution_count": 7,
     "metadata": {},
     "output_type": "execute_result"
    }
   ],
   "source": [
    "def calc_inforamtion_gain(data,attribute):\n",
    "    return calc_entropy(data)-calc_information(data,attribute)\n",
    "calc_inforamtion_gain(train_data,'sales')"
   ]
  },
  {
   "cell_type": "markdown",
   "metadata": {},
   "source": [
    "#### best_information_gain function \n",
    "Find best information gain attributes of from all attributes of present in the list_categorial_attribute"
   ]
  },
  {
   "cell_type": "code",
   "execution_count": 8,
   "metadata": {},
   "outputs": [
    {
     "data": {
      "text/plain": [
       "'salary'"
      ]
     },
     "execution_count": 8,
     "metadata": {},
     "output_type": "execute_result"
    }
   ],
   "source": [
    "def best_information_gain(data,list_categorial_attribute):\n",
    "    dict_categorial_attribute={}\n",
    "    flag=0\n",
    "    min_v=0\n",
    "    min_at=''\n",
    "    for attr in list_categorial_attribute:\n",
    "        if flag==0:\n",
    "            min_v=calc_inforamtion_gain(data,attr)\n",
    "            min_at=attr\n",
    "            flag=1\n",
    "        elif min_v<calc_inforamtion_gain(data,attr):\n",
    "            min_v=min_v=calc_inforamtion_gain(data,attr)\n",
    "            min_at=attr\n",
    "    return min_at\n",
    "best_information_gain(train_data,list_categorial_attribute)"
   ]
  },
  {
   "cell_type": "markdown",
   "metadata": {},
   "source": [
    "#### covert_numeric_to_categorical function\n",
    "Fucntion converts the numeric data to categorical data by assigning labels to the in place of numeric values of the attributes.\n",
    "First data is sorted according to the numeric value attribute and the all unique numeric values present in the numerical value attribute is obtained then for all the unique value we find out what is maximum number of time occuring in 'left' attribute of data and that value is assign to that unique value.And then data is accessed is sequential and where the value assigned to numeric value changes the average of numerical value is taken and value less that value is given one label and value greater than that avgerage falls under other label\n"
   ]
  },
  {
   "cell_type": "code",
   "execution_count": 9,
   "metadata": {},
   "outputs": [],
   "source": [
    "def convert_numeric_to_categorical(data,attribute):\n",
    "    data.sort_values(by=[attribute],inplace=True)\n",
    "#     print data\n",
    "    dic={}\n",
    "    li=data[attribute].unique().tolist()\n",
    "    for l in li :\n",
    "        temp=data[data[attribute]==l]\n",
    "        dic[l]=num.unique(temp['left'])[num.argmax(num.unique(temp['left'], return_counts = True)[1])]\n",
    "#     print dic                                               \n",
    "    flag=0\n",
    "    avg_list=[]\n",
    "    count=0\n",
    "    for i in data.index :\n",
    "        if flag==0:\n",
    "            prev_elem=data.loc[i,attribute]\n",
    "            prev_left=dic[prev_elem]\n",
    "            flag=1\n",
    "        elif prev_left!=dic[data.loc[i,attribute]]:\n",
    "            avg_list.append((prev_elem+data.loc[i,attribute])/2.0)\n",
    "            prev_elem=data.loc[i,attribute]\n",
    "            prev_left=dic[prev_elem]\n",
    "            count=count+1\n",
    "#             print count\n",
    "        else :\n",
    "            prev_elem=data.loc[i,attribute]\n",
    "            prev_left=dic[prev_elem]\n",
    "#     print avg_list\n",
    "    dic_avg_numeric[attribute]=avg_list\n",
    "    label=0\n",
    "    list_label=[]\n",
    "    index_list=[]\n",
    "    f=0\n",
    "    for i in data.index :\n",
    "        label=0\n",
    "        index_list.append(i)\n",
    "        f=0\n",
    "        for j in avg_list:\n",
    "            if data.loc[i,attribute]<=j:\n",
    "                list_label.append(label)\n",
    "                f=1\n",
    "                break\n",
    "            else :\n",
    "                label=label+1\n",
    "        if f==0:\n",
    "            list_label.append(label)\n",
    "#     print pd.Series(list_label)\n",
    "    \n",
    "#     print len(data)\n",
    "#     print data.head()\n",
    "    \n",
    "    num_attribute=attribute+'_numeric'\n",
    "    data[num_attribute]=pd.Series(list_label,index=index_list)\n",
    "    \n",
    "#     print data.head()\n",
    "def label_prediction(data,attribute):\n",
    "    avg_list=dic_avg_numeric[attribute]\n",
    "    label=0\n",
    "    list_label=[]\n",
    "    index_list=[]\n",
    "    f=0\n",
    "    for i in data.index :\n",
    "        label=0\n",
    "        index_list.append(i)\n",
    "        f=0\n",
    "        for j in avg_list:\n",
    "            if data.loc[i,attribute]<=j:\n",
    "                list_label.append(label)\n",
    "                f=1\n",
    "                break\n",
    "            else :\n",
    "                label=label+1\n",
    "        if f==0:\n",
    "            list_label.append(label)\n",
    "    num_attribute=attribute+'_numeric'\n",
    "    data[num_attribute]=pd.Series(list_label,index=index_list)\n",
    "\n",
    "\n",
    "\n",
    "for attr in list_numeric_attribute:\n",
    "     convert_numeric_to_categorical(train_data,attr)\n",
    "# convert_numeric_to_categorical(train_data,'satisfaction_level')\n",
    "# print train_data"
   ]
  },
  {
   "cell_type": "markdown",
   "metadata": {},
   "source": [
    "#### build_tree \n",
    "build_tree fuctions builds tree on the currrently present data in the form of dictionary of dictionary,while recurrsively calling itself again and agian and assigning attribute with best_gain_attribute as root of present tree untill one of following conditions is meet-\n",
    "1. Data size become zero \n",
    "2. No Attributes is present in attribute_list \n",
    "3. All data left column value is same\n"
   ]
  },
  {
   "cell_type": "code",
   "execution_count": 10,
   "metadata": {},
   "outputs": [],
   "source": [
    "def build_tree(table, prev_table, attribute_list, tree = None):\n",
    "    if len(set(table['left'])) <= 1:\n",
    "        return {'leaf' : table['left'].tolist()[0]}\n",
    "    elif len(table) == 0:\n",
    "        return {'leaf': num.unique(prev_table['left'])[num.argmax(num.unique(prev_table['left'], return_counts = True)[1])]}\n",
    "    elif len(attribute_list) == 0:\n",
    "        return {'leaf': num.unique(prev_table['left'])[num.argmax(num.unique(prev_table['left'], return_counts = True)[1])]}\n",
    "    node = best_information_gain(table, attribute_list)\n",
    "    attribute_list.remove(node)\n",
    "    if tree is None:\n",
    "        tree = {}\n",
    "        tree[node] = {}\n",
    "        tree['current_max']=num.unique(prev_table['left'])[num.argmax(num.unique(prev_table['left'], return_counts = True)[1])]\n",
    "    for v in table[node].unique():\n",
    "        mod_table = table.where(table[node] == v).dropna()\n",
    "        tree[node][v] = build_tree(mod_table, table, attribute_list[:])\n",
    "    return tree\n",
    "list_final=[]\n",
    "list_final=list_categorial_attribute[:]\n",
    "for i in list_numeric_attribute:\n",
    "    list_final.append(i+'_numeric')\n",
    "    \n",
    "tree = build_tree(train_data, train_data, list_final[:])\n",
    "# pprint.pprint(tree)"
   ]
  },
  {
   "cell_type": "markdown",
   "metadata": {},
   "source": [
    "#### predict_helper and predict fucntion :\n",
    "Function predict_helper is called on whole validation_data and then predict fucntion is called on each row one by one and  tree build throung train data is used to predict the result of the given row "
   ]
  },
  {
   "cell_type": "code",
   "execution_count": 11,
   "metadata": {},
   "outputs": [],
   "source": [
    "def a_predict_helper(test_data , li , tree,depth):\n",
    "    for i in test_data.index:\n",
    "        a_predict(test_data.loc[i],li,tree,depth,0)\n",
    "    return li\n",
    "def a_predict(row,li,tree,depth,cur_depth):\n",
    "    try:\n",
    "        if tree.keys()[0]=='leaf':\n",
    "            li.append(tree['leaf'])\n",
    "        else:    \n",
    "            t='0'\n",
    "            if tree.keys()[0]=='current_max':\n",
    "                t=tree.keys()[1]\n",
    "            else:\n",
    "                t=tree.keys()[0]\n",
    "            value=row[t]\n",
    "            if cur_depth==depth:\n",
    "                li.append(tree['current_max'])\n",
    "            else:    \n",
    "                a_predict(row,li,tree[t][value],depth,cur_depth+1)\n",
    "    except:\n",
    "        li.append(0.0) \n",
    "for attr in list_numeric_attribute:\n",
    "     label_prediction(test_data,attr)\n",
    "pridected_value={}\n",
    "for i in range(10):\n",
    "    pridected_value[i]= a_predict_helper(test_data,[],tree,i)"
   ]
  },
  {
   "cell_type": "markdown",
   "metadata": {},
   "source": [
    "#### calc_prefomance function\n",
    "Calcalutes the preformance of the predict values from the tree at each depth produce through the build_tree with respect to it's actual value\n",
    "And give Accuracy,Precision ,Recall & F1 for each depth"
   ]
  },
  {
   "cell_type": "code",
   "execution_count": 12,
   "metadata": {},
   "outputs": [
    {
     "name": "stdout",
     "output_type": "stream",
     "text": [
      "0\n",
      "ture positive 0\n",
      "false positive 0\n",
      "false negative 498\n",
      "ture negative 1750\n",
      "Accuracy  0.77846975089\n",
      "Precision  0\n",
      "Recall  0\n",
      "F1 Score 0\n",
      "1\n",
      "ture positive 140\n",
      "false positive 0\n",
      "false negative 358\n",
      "ture negative 1750\n",
      "Accuracy  0.840747330961\n",
      "Precision  1.0\n",
      "Recall  0.281124497992\n",
      "F1 Score 0.438871473354\n",
      "2\n",
      "ture positive 354\n",
      "false positive 76\n",
      "false negative 144\n",
      "ture negative 1674\n",
      "Accuracy  0.902135231317\n",
      "Precision  0.823255813953\n",
      "Recall  0.710843373494\n",
      "F1 Score 0.762931034483\n",
      "3\n",
      "ture positive 450\n",
      "false positive 72\n",
      "false negative 48\n",
      "ture negative 1678\n",
      "Accuracy  0.946619217082\n",
      "Precision  0.862068965517\n",
      "Recall  0.903614457831\n",
      "F1 Score 0.882352941176\n",
      "4\n",
      "ture positive 450\n",
      "false positive 53\n",
      "false negative 48\n",
      "ture negative 1697\n",
      "Accuracy  0.955071174377\n",
      "Precision  0.894632206759\n",
      "Recall  0.903614457831\n",
      "F1 Score 0.899100899101\n",
      "5\n",
      "ture positive 453\n",
      "false positive 56\n",
      "false negative 45\n",
      "ture negative 1694\n",
      "Accuracy  0.955071174377\n",
      "Precision  0.889980353635\n",
      "Recall  0.909638554217\n",
      "F1 Score 0.899702085402\n",
      "6\n",
      "ture positive 454\n",
      "false positive 48\n",
      "false negative 44\n",
      "ture negative 1702\n",
      "Accuracy  0.959074733096\n",
      "Precision  0.90438247012\n",
      "Recall  0.911646586345\n",
      "F1 Score 0.908\n",
      "7\n",
      "ture positive 456\n",
      "false positive 52\n",
      "false negative 42\n",
      "ture negative 1698\n",
      "Accuracy  0.958185053381\n",
      "Precision  0.897637795276\n",
      "Recall  0.915662650602\n",
      "F1 Score 0.906560636183\n",
      "8\n",
      "ture positive 457\n",
      "false positive 52\n",
      "false negative 41\n",
      "ture negative 1698\n",
      "Accuracy  0.958629893238\n",
      "Precision  0.897838899804\n",
      "Recall  0.917670682731\n",
      "F1 Score 0.907646474677\n",
      "9\n",
      "ture positive 455\n",
      "false positive 52\n",
      "false negative 43\n",
      "ture negative 1698\n",
      "Accuracy  0.957740213523\n",
      "Precision  0.897435897436\n",
      "Recall  0.913654618474\n",
      "F1 Score 0.905472636816\n"
     ]
    }
   ],
   "source": [
    "target_value = test_data['left'].tolist()\n",
    "def calc_preformance(target_value,pridected_value):\n",
    "    t_p=0\n",
    "    f_p=0\n",
    "    t_n=0\n",
    "    f_n=0\n",
    "    for i in range(len(target_value)):\n",
    "        if target_value[i]==0 and target_value[i]==pridected_value[i]:\n",
    "            t_n=t_n+1\n",
    "        elif target_value[i]==1 and target_value[i]==pridected_value[i]:\n",
    "            t_p=t_p+1\n",
    "        elif pridected_value[i]==1 and target_value[i]==0:\n",
    "            f_p=f_p+1\n",
    "        elif pridected_value[i]==0 and target_value[i]==1:\n",
    "            f_n=f_n+1\n",
    "\n",
    "    accuracy=(t_n+t_p)/float(t_n+t_p+f_p+f_n)\n",
    "    if t_p !=0  :\n",
    "        precison=(t_p)/float(t_p+f_p)\n",
    "        recall=(t_p)/float(t_p+f_n)\n",
    "        a=1/precison\n",
    "        b=1/recall\n",
    "        f1_score=2/(a+b)\n",
    "    else:\n",
    "        precison=0\n",
    "        recall=0\n",
    "        a=0\n",
    "        b=0\n",
    "        f1_score=0\n",
    "        \n",
    "    print \"ture positive\",t_p\n",
    "    print \"false positive\",f_p\n",
    "    print \"false negative\",f_n\n",
    "    print \"ture negative\",t_n\n",
    "    \n",
    "    print \"Accuracy \",accuracy\n",
    "    print \"Precision \",precison\n",
    "    print \"Recall \",recall\n",
    "    print \"F1 Score\",f1_score\n",
    "    return 1-accuracy\n",
    "list_accuracy_test=[]\n",
    "list_depth=[]\n",
    "for i in range(10):\n",
    "    print i\n",
    "    list_depth.append(i+1)\n",
    "    list_accuracy_test.append(calc_preformance(target_value,pridected_value[i]))\n"
   ]
  },
  {
   "cell_type": "markdown",
   "metadata": {},
   "source": [
    "#### Graph of validation error with respect to depth of your decision tree."
   ]
  },
  {
   "cell_type": "code",
   "execution_count": 14,
   "metadata": {},
   "outputs": [
    {
     "data": {
      "image/png": "[encoded data removed]",
      "text/plain": [
       "<Figure size 432x288 with 1 Axes>"
      ]
     },
     "metadata": {
      "needs_background": "light"
     },
     "output_type": "display_data"
    }
   ],
   "source": [
    "import matplotlib.pyplot as plt\n",
    "plt.plot(list_depth,list_accuracy_test)\n",
    "plt.title('validation error vs depth')\n",
    "plt.xlabel('error rate')\n",
    "plt.ylabel('depth')\n",
    "plt.show()\n"
   ]
  },
  {
   "cell_type": "code",
   "execution_count": 15,
   "metadata": {},
   "outputs": [
    {
     "name": "stdout",
     "output_type": "stream",
     "text": [
      "ture positive 0\n",
      "false positive 0\n",
      "false negative 2177\n",
      "ture negative 6813\n",
      "Accuracy  0.757842046719\n",
      "Precision  0\n",
      "Recall  0\n",
      "F1 Score 0\n",
      "ture positive 534\n",
      "false positive 0\n",
      "false negative 1643\n",
      "ture negative 6813\n",
      "Accuracy  0.81724137931\n",
      "Precision  1.0\n",
      "Recall  0.245291685806\n",
      "F1 Score 0.393950571745\n",
      "ture positive 1482\n",
      "false positive 274\n",
      "false negative 695\n",
      "ture negative 6539\n",
      "Accuracy  0.892213570634\n",
      "Precision  0.843963553531\n",
      "Recall  0.680753330271\n",
      "F1 Score 0.753623188406\n",
      "ture positive 1912\n",
      "false positive 196\n",
      "false negative 265\n",
      "ture negative 6617\n",
      "Accuracy  0.94872080089\n",
      "Precision  0.907020872865\n",
      "Recall  0.878272852549\n",
      "F1 Score 0.892415402567\n",
      "ture positive 1907\n",
      "false positive 148\n",
      "false negative 270\n",
      "ture negative 6665\n",
      "Accuracy  0.953503893215\n",
      "Precision  0.92798053528\n",
      "Recall  0.875976113918\n",
      "F1 Score 0.901228733459\n",
      "ture positive 1950\n",
      "false positive 149\n",
      "false negative 227\n",
      "ture negative 6664\n",
      "Accuracy  0.958175750834\n",
      "Precision  0.929013816103\n",
      "Recall  0.895728066146\n",
      "F1 Score 0.912067352666\n",
      "ture positive 1956\n",
      "false positive 111\n",
      "false negative 221\n",
      "ture negative 6702\n",
      "Accuracy  0.963070077864\n",
      "Precision  0.946298984035\n",
      "Recall  0.898484152503\n",
      "F1 Score 0.921771913289\n",
      "ture positive 1991\n",
      "false positive 107\n",
      "false negative 186\n",
      "ture negative 6706\n",
      "Accuracy  0.967408231368\n",
      "Precision  0.948999046711\n",
      "Recall  0.914561322921\n",
      "F1 Score 0.931461988304\n",
      "ture positive 2002\n",
      "false positive 107\n",
      "false negative 175\n",
      "ture negative 6706\n",
      "Accuracy  0.968631813126\n",
      "Precision  0.949265054528\n",
      "Recall  0.91961414791\n",
      "F1 Score 0.934204386374\n",
      "ture positive 2001\n",
      "false positive 100\n",
      "false negative 176\n",
      "ture negative 6713\n",
      "Accuracy  0.969299221357\n",
      "Precision  0.952403617325\n",
      "Recall  0.919154800184\n",
      "F1 Score 0.935483870968\n"
     ]
    }
   ],
   "source": [
    "pridected_value={}\n",
    "target_value = train_data['left'].tolist()\n",
    "for i in range(10):\n",
    "    pridected_value[i]= a_predict_helper(train_data,[],tree,i)\n",
    "#     print len(pridected_value[i])\n",
    "list_accuracy_train=[]\n",
    "list_depth=[]\n",
    "\n",
    "for i in range(10):\n",
    "#     print i\n",
    "    list_depth.append(i+1)\n",
    "    list_accuracy_train.append(calc_preformance(target_value, pridected_value[i]))\n"
   ]
  },
  {
   "cell_type": "markdown",
   "metadata": {},
   "source": [
    "#### Graph of training error with respect to depth of your decision tree."
   ]
  },
  {
   "cell_type": "code",
   "execution_count": 16,
   "metadata": {},
   "outputs": [
    {
     "data": {
      "image/png": "[encoded data removed]",
      "text/plain": [
       "<Figure size 432x288 with 1 Axes>"
      ]
     },
     "metadata": {
      "needs_background": "light"
     },
     "output_type": "display_data"
    }
   ],
   "source": [
    "import matplotlib.pyplot as plt\n",
    "plt.plot(list_depth,list_accuracy_train)\n",
    "plt.title('tranning error vs depth')\n",
    "plt.xlabel('error rate')\n",
    "plt.ylabel('depth')\n",
    "plt.show()\n"
   ]
  },
  {
   "cell_type": "code",
   "execution_count": 17,
   "metadata": {},
   "outputs": [
    {
     "name": "stdout",
     "output_type": "stream",
     "text": [
      "[1, 5, 19, 78, 175, 331, 494, 663, 821, 937]\n"
     ]
    }
   ],
   "source": [
    "def num_of_nodes(tree,depth,cur_depth,list_num_nodes):\n",
    "    if cur_depth==depth:\n",
    "        list_num_nodes[depth]=list_num_nodes[depth]+1\n",
    "    elif cur_depth<depth:\n",
    "        for key in tree.keys():\n",
    "#             if key=='leaf':\n",
    "#                 list_num_nodes[depth]=list_num_nodes[depth]+1\n",
    "            if key!='current_max' and key!='leaf' :\n",
    "                for val in tree[key]:\n",
    "                    num_of_nodes(tree[key][val],depth,cur_depth+1,list_num_nodes)\n",
    "list_num_nodes=[]                \n",
    "for i in range(10):        \n",
    "    list_num_nodes.append(0)\n",
    "    num_of_nodes(tree,i,0,list_num_nodes)\n",
    "# print list_num_nodes\n",
    "for i in range(1,10):\n",
    "    list_num_nodes[i]=list_num_nodes[i-1]+list_num_nodes[i]\n",
    "print list_num_nodes"
   ]
  },
  {
   "cell_type": "markdown",
   "metadata": {},
   "source": [
    "#### Graph of validation error with respect to number of nodes of decision tree."
   ]
  },
  {
   "cell_type": "code",
   "execution_count": 18,
   "metadata": {},
   "outputs": [
    {
     "data": {
      "image/png": "[encoded data removed]",
      "text/plain": [
       "<Figure size 432x288 with 1 Axes>"
      ]
     },
     "metadata": {
      "needs_background": "light"
     },
     "output_type": "display_data"
    }
   ],
   "source": [
    "import matplotlib.pyplot as plt\n",
    "plt.plot(list_num_nodes,list_accuracy_test)\n",
    "plt.title('validation error vs no_number_nodes')\n",
    "plt.xlabel('no_of_nodes')\n",
    "plt.ylabel('error rate')\n",
    "plt.show()"
   ]
  },
  {
   "cell_type": "markdown",
   "metadata": {},
   "source": [
    "#### Graph of training error with respect to number of nodes of decision tree."
   ]
  },
  {
   "cell_type": "code",
   "execution_count": 19,
   "metadata": {},
   "outputs": [
    {
     "data": {
      "image/png": "[encoded data removed]",
      "text/plain": [
       "<Figure size 432x288 with 1 Axes>"
      ]
     },
     "metadata": {
      "needs_background": "light"
     },
     "output_type": "display_data"
    }
   ],
   "source": [
    "import matplotlib.pyplot as plt\n",
    "plt.plot(list_num_nodes,list_accuracy_train)\n",
    "plt.title('training error vs no_number_nodes')\n",
    "plt.xlabel('no_of_nodes')\n",
    "plt.ylabel('error rate')\n",
    "plt.show()"
   ]
  },
  {
   "cell_type": "code",
   "execution_count": null,
   "metadata": {},
   "outputs": [],
   "source": []
  }
 ],
 "metadata": {
  "kernelspec": {
   "display_name": "Python 2",
   "language": "python",
   "name": "python2"
  },
  "language_info": {
   "codemirror_mode": {
    "name": "ipython",
    "version": 2
   },
   "file_extension": ".py",
   "mimetype": "text/x-python",
   "name": "python",
   "nbconvert_exporter": "python",
   "pygments_lexer": "ipython2",
   "version": "2.7.15rc1"
  }
 },
 "nbformat": 4,
 "nbformat_minor": 2
}
